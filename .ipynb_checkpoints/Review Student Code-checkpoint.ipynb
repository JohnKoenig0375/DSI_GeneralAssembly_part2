{
 "cells": [
  {
   "cell_type": "markdown",
   "metadata": {},
   "source": [
    "## Review Student Code"
   ]
  },
  {
   "cell_type": "markdown",
   "metadata": {},
   "source": [
    "Author: John Koenig<br>\n",
    "Date: 16JUN2021<br>\n",
    "\n",
    "I will be reviewing two student code snippets for:<br>\n",
    "- Code\n",
    "- Methodology\n",
    "- Conceptual Understanding\n",
    "- Takeaways\n"
   ]
  },
  {
   "cell_type": "code",
   "execution_count": null,
   "metadata": {},
   "outputs": [],
   "source": [
    "#!/usr/bin/env python\n",
    "\n",
    "import pandas as pd\n",
    "import numpy as np\n",
    "from sklearn import LinearRegression\n",
    "from sklearn.cross_validation import cross_val_score\n",
    "\n",
    "# Load data\n",
    "d = pd.read_csv('../data/train.csv')\n",
    "\n",
    "\n",
    "# Setup data for prediction\n",
    "x1 = data.SalaryNormalized\n",
    "x2 = pd.get_dummies(data.ContractType)\n",
    "\n",
    "# Setup model\n",
    "model = LinearRegression()\n",
    "\n",
    "# Evaluate model\n",
    "from sklearn.cross_validation import cross_val_score\n",
    "from sklearn.cross_validation import train_test_split\n",
    "scores = cross_val_score(model, x2, x1, cv=1, scoring='mean_absolute_error')\n",
    "print(scores.mean())\n"
   ]
  },
  {
   "cell_type": "markdown",
   "metadata": {},
   "source": [
    "line 5: The correct module is 'from sklearn.linear_model import LinearRegression'<br>\n",
    "line 6: The correct modules is 'from sklearn.model_selection import cross_val_score'<br>\n",
    "\n",
    "line 9:\n",
    "- Usually, we use \"df\" as the variable name for our primary dataframe\n",
    "- \"d\" is not a good, descriptive variable\n",
    "\n",
    "line 13:\n",
    "- This will not run, your dataframe is \"d\" - not \"data\" -- remember?\n",
    "- This should be \"X\"\n",
    "\n",
    "line 14:\n",
    "- Same\n",
    "- This should be \"y\"\n",
    "\n",
    "line 20:\n",
    "- This is a redundant import of an incorrect module<br>\n",
    "- The correct module is'from sklearn.model_selection import train_test_split'\n",
    "line 21: import statements should be placed at the top of the file\n",
    "\n",
    "line 22:\n",
    "- Cross validation should be used on classification models\n",
    "- Usually we use SSE for linear regression\n",
    "- Using dummies to predict a continuous variable is not going to work\n",
    "\n"
   ]
  },
  {
   "cell_type": "code",
   "execution_count": null,
   "metadata": {},
   "outputs": [],
   "source": [
    "import pandas as pd\n",
    "import numpy as np\n",
    "from sklearn.linear_model import LinearRegression\n",
    "from sklearn.cross_validation import cross_val_score\n",
    "\n",
    "# Load data\n",
    "data = pd.read_csv('../data/train.csv')\n",
    "\n",
    "\n",
    "# Setup data for prediction\n",
    "y = data.SalaryNormalized\n",
    "X = pd.get_dummies(data.ContractType)\n",
    "\n",
    "# Setup model\n",
    "model = LinearRegression()\n",
    "\n",
    "# Evaluate model\n",
    "scores = cross_val_score(model, X, y, cv=5, scoring='mean_absolute_error')\n",
    "print(scores.mean())"
   ]
  },
  {
   "cell_type": "markdown",
   "metadata": {},
   "source": [
    "Most of this is the same as above\n",
    "\n",
    "line 4:\n",
    "- The correct module is 'from sklearn.model_selection import cross_val_score'\n",
    "\n",
    "line 18:\n",
    "- you have entered \"5\" for the \"cv\" parameter, indicating you want 5 folds, but that is the default\n",
    "- unnecessary\n"
   ]
  },
  {
   "cell_type": "markdown",
   "metadata": {},
   "source": [
    "Thank you for reviewing my reviewing"
   ]
  }
 ],
 "metadata": {
  "kernelspec": {
   "display_name": "Python 3",
   "language": "python",
   "name": "python3"
  },
  "language_info": {
   "codemirror_mode": {
    "name": "ipython",
    "version": 3
   },
   "file_extension": ".py",
   "mimetype": "text/x-python",
   "name": "python",
   "nbconvert_exporter": "python",
   "pygments_lexer": "ipython3",
   "version": "3.7.4"
  }
 },
 "nbformat": 4,
 "nbformat_minor": 2
}
